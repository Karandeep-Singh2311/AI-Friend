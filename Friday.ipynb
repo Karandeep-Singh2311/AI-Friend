{
 "cells": [
  {
   "cell_type": "code",
   "execution_count": 1,
   "id": "9a345ac1",
   "metadata": {},
   "outputs": [
    {
     "name": "stdout",
     "output_type": "stream",
     "text": [
      "Requirement already satisfied: pyaudio in c:\\users\\hp\\anaconda3\\lib\\site-packages (0.2.14)\n",
      "Note: you may need to restart the kernel to use updated packages.\n"
     ]
    }
   ],
   "source": [
    "pip install pyaudio"
   ]
  },
  {
   "cell_type": "code",
   "execution_count": 2,
   "id": "90f4591e",
   "metadata": {},
   "outputs": [],
   "source": [
    "import speech_recognition as sr\n",
    "import pyttsx3\n",
    "import pywhatkit\n",
    "import datetime\n",
    "import wikipedia"
   ]
  },
  {
   "cell_type": "code",
   "execution_count": 3,
   "id": "df09d452",
   "metadata": {},
   "outputs": [],
   "source": [
    "listner = sr.Recognizer()\n",
    "engine = pyttsx3.init()\n",
    "voices = engine.getProperty('voices')\n",
    "engine.setProperty('voice',voices[1].id)\n",
    "engine.setProperty('rate',100)"
   ]
  },
  {
   "cell_type": "code",
   "execution_count": 4,
   "id": "6eedb005",
   "metadata": {},
   "outputs": [],
   "source": [
    "def talk(text):\n",
    "    engine.say(text)\n",
    "    engine.runAndWait()"
   ]
  },
  {
   "cell_type": "code",
   "execution_count": 5,
   "id": "7eae34b1",
   "metadata": {},
   "outputs": [],
   "source": [
    "def take_command():\n",
    "    with sr.Microphone() as source:\n",
    "        print('please say something...........')\n",
    "        voice = listner.listen(source)\n",
    "        command = listner.recognize_google(voice).lower()\n",
    "        if 'friday' in command:\n",
    "            command = command.replace('friday','')\n",
    "            print(command)\n",
    "        else:\n",
    "            print(command)\n",
    "        return command"
   ]
  },
  {
   "cell_type": "code",
   "execution_count": 6,
   "id": "68dacc0e",
   "metadata": {},
   "outputs": [],
   "source": [
    "def talk(text):\n",
    "    engine.say(text)\n",
    "    engine.runAndWait()"
   ]
  },
  {
   "cell_type": "code",
   "execution_count": 7,
   "id": "333faa34",
   "metadata": {},
   "outputs": [],
   "source": [
    "def reply():\n",
    "    command = take_command()\n",
    "    if 'play' in command:\n",
    "        song = command.replace('play','')\n",
    "        talk('ok boss' + 'm playing' + song)\n",
    "        pywhatkit.playonyt(song)\n",
    "        \n",
    "    elif 'who is' in command:\n",
    "        insaan = command.replace('who is','')\n",
    "        info = wikipedia.summary(insaan,1)\n",
    "        talk(info)\n",
    "        \n",
    "    elif 'what' in command:\n",
    "        talk(\"NOTHING MUCH\")\n",
    "        \n",
    "    elif 'how' in command:\n",
    "        talk(\"I AM FINE , YOU TELL boss whats going on\")\n",
    "            \n",
    "    elif 'name' in command:\n",
    "        talk(\"MY NAME IS FRIDAY.....i am AI friend of Karandeep singh\")\n",
    "    \n",
    "        \n",
    "    elif 'wish' in command:\n",
    "        talk(\"HAPPY BIRTHDAY karan god bless you with lots of happiness\")"
   ]
  },
  {
   "cell_type": "code",
   "execution_count": 9,
   "id": "141e77ea",
   "metadata": {},
   "outputs": [
    {
     "name": "stdout",
     "output_type": "stream",
     "text": [
      "please say something...........\n",
      "who is shahrukh khan\n"
     ]
    }
   ],
   "source": [
    "reply()"
   ]
  },
  {
   "cell_type": "code",
   "execution_count": null,
   "id": "c7b5da69",
   "metadata": {},
   "outputs": [],
   "source": [
    "#from IPython.core.display import display, HTML\n",
    "#display(HTML('<style>.container {width:100% !important;}</style>'))"
   ]
  },
  {
   "cell_type": "code",
   "execution_count": null,
   "id": "29b42ad1",
   "metadata": {},
   "outputs": [],
   "source": []
  }
 ],
 "metadata": {
  "kernelspec": {
   "display_name": "Python 3 (ipykernel)",
   "language": "python",
   "name": "python3"
  },
  "language_info": {
   "codemirror_mode": {
    "name": "ipython",
    "version": 3
   },
   "file_extension": ".py",
   "mimetype": "text/x-python",
   "name": "python",
   "nbconvert_exporter": "python",
   "pygments_lexer": "ipython3",
   "version": "3.11.4"
  }
 },
 "nbformat": 4,
 "nbformat_minor": 5
}
